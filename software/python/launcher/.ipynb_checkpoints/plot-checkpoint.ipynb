{
 "cells": [
  {
   "cell_type": "code",
   "execution_count": 26,
   "metadata": {
    "collapsed": false
   },
   "outputs": [],
   "source": [
    "%matplotlib inline\n",
    "\n",
    "import os\n",
    "import numpy as np\n",
    "from matplotlib import pyplot as plt"
   ]
  },
  {
   "cell_type": "code",
   "execution_count": 32,
   "metadata": {
    "collapsed": false
   },
   "outputs": [],
   "source": [
    "files = sorted(os.listdir('.')) #os.listdir('data'))\n",
    "files = ['thermo_2016-04-19_19:38:23-data-step-metal-1000sccm']"
   ]
  },
  {
   "cell_type": "code",
   "execution_count": 33,
   "metadata": {
    "collapsed": false
   },
   "outputs": [
    {
     "name": "stdout",
     "output_type": "stream",
     "text": [
      "[0.69558191299438477, 0.79908585548400879, 0.90525698661804199, 1.0079500675201416, 1.1102960109710693]\n",
      "3\n"
     ]
    }
   ],
   "source": [
    "for file in files:\n",
    "    #filename = 'data/' + file\n",
    "    filename = file\n",
    "    dataset = np.genfromtxt(filename,delimiter=',')\n",
    "    fig = plt.figure()\n",
    "    ax = plt.subplot(111)\n",
    "    \n",
    "    # http://matplotlib.org/examples/color/named_colors.html\n",
    "    colors = ['yellow','cyan','pink','darkblue']\n",
    "    labels = ['V','Vcap','I']\n",
    "    \n",
    "    xax = [line[0] for line in dataset]\n",
    "    print(xax[:5])\n",
    "    print(len(dataset[0]))\n",
    "    \n",
    "    for i in [1,2]:\n",
    "    #for i in range(1,len(dataset[0])-1):\n",
    "        data = [line[i] for line in dataset]\n",
    "        if i == 0:\n",
    "            voltage = max(data)-min(data)\n",
    "        ax = plt.plot(xax[:],data[:],\n",
    "          linestyle='None',marker='o',markeredgecolor=colors[i-1],markersize=1,\n",
    "          label=labels[i-1])\n",
    "    plt.legend()\n",
    "    plt.ylim(0,95)\n",
    "    #plt.title(\"oscilloscope traces, Vpp=\" + str(voltage) + \", \" + str(file))\n",
    "    fig.savefig(filename+'.png',dpi=150)\n",
    "    fig.show()\n",
    "    plt.close(fig)"
   ]
  },
  {
   "cell_type": "code",
   "execution_count": null,
   "metadata": {
    "collapsed": true
   },
   "outputs": [],
   "source": []
  }
 ],
 "metadata": {
  "kernelspec": {
   "display_name": "Python 2",
   "language": "python",
   "name": "python2"
  },
  "language_info": {
   "codemirror_mode": {
    "name": "ipython",
    "version": 2
   },
   "file_extension": ".py",
   "mimetype": "text/x-python",
   "name": "python",
   "nbconvert_exporter": "python",
   "pygments_lexer": "ipython2",
   "version": "2.7.6"
  }
 },
 "nbformat": 4,
 "nbformat_minor": 0
}
