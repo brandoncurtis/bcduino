{
 "cells": [
  {
   "cell_type": "code",
   "execution_count": 1,
   "metadata": {
    "collapsed": false
   },
   "outputs": [
    {
     "ename": "ImportError",
     "evalue": "No module named 'matplotlib'",
     "output_type": "error",
     "traceback": [
      "\u001b[0;31m---------------------------------------------------------------------------\u001b[0m",
      "\u001b[0;31mImportError\u001b[0m                               Traceback (most recent call last)",
      "\u001b[0;32m<ipython-input-1-56de7f694d17>\u001b[0m in \u001b[0;36m<module>\u001b[0;34m()\u001b[0m\n\u001b[1;32m      6\u001b[0m   \"\"\"\n\u001b[1;32m      7\u001b[0m \u001b[0;34m\u001b[0m\u001b[0m\n\u001b[0;32m----> 8\u001b[0;31m \u001b[0;32mimport\u001b[0m \u001b[0mmatplotlib\u001b[0m\u001b[0;34m\u001b[0m\u001b[0m\n\u001b[0m\u001b[1;32m      9\u001b[0m \u001b[0;32mfrom\u001b[0m \u001b[0mmatplotlib\u001b[0m \u001b[0;32mimport\u001b[0m \u001b[0mpyplot\u001b[0m \u001b[0;32mas\u001b[0m \u001b[0mplt\u001b[0m\u001b[0;34m\u001b[0m\u001b[0m\n\u001b[1;32m     10\u001b[0m \u001b[0;32mfrom\u001b[0m \u001b[0mdatetime\u001b[0m \u001b[0;32mimport\u001b[0m \u001b[0mdatetime\u001b[0m\u001b[0;34m,\u001b[0m \u001b[0mtimedelta\u001b[0m\u001b[0;34m\u001b[0m\u001b[0m\n",
      "\u001b[0;31mImportError\u001b[0m: No module named 'matplotlib'"
     ]
    }
   ],
   "source": [
    "\"\"\"\n",
    "List of Functions:\n",
    "  show_file_contents(filename)\n",
    "  prep_temperature_data()\n",
    "  plot_temperature_timecourse(setpoint)\n",
    "  \"\"\"\n",
    "\n",
    "import matplotlib\n",
    "from matplotlib import pyplot as plt\n",
    "from datetime import datetime, timedelta\n",
    "import numpy\n",
    "import os\n",
    "matplotlib.rc('font', family='DejaVu Sans')\n",
    "\n",
    "import warnings\n",
    "warnings.filterwarnings(\"ignore\", module=\"numpy\")\n",
    "warnings.filterwarnings(\"ignore\", module=\"matplotlib\")\n",
    "\n",
    "plot_each_spectrum = True\n",
    "plot_each_lissajous = False\n",
    "\n",
    "expname = '2016-07-06_06:39:25'\n",
    "\n",
    "droot = '/mnt/storage/' # absolute paths\n",
    "ddata = os.path.join(droot,'data')\n",
    "dexp = os.path.join(ddata,expname)\n",
    "\n",
    "din = os.path.join(dexp,'in')\n",
    "dout = os.path.join(dexp,'out')\n",
    "dplot = os.path.join(dexp,'plot')\n",
    "dbin = os.path.join(dexp,'bin')\n",
    "\n",
    "dintemp = os.path.join(din, 'temperature')\n",
    "dinthermo = os.path.join(din, 'thermograph')\n",
    "dinosc = os.path.join(din, 'oscilloscope')\n",
    "dinspectra = os.path.join(din, 'spectra')\n",
    "dinintense = os.path.join(din, 'photointensity')\n",
    "dincurrent = os.path.join(din, 'current')\n",
    "\n",
    "starttime = datetime.strptime(expname,\"%Y-%m-%d_%H:%M:%S\")"
   ]
  },
  {
   "cell_type": "code",
   "execution_count": 2,
   "metadata": {
    "collapsed": true
   },
   "outputs": [],
   "source": [
    "import numpy"
   ]
  },
  {
   "cell_type": "code",
   "execution_count": null,
   "metadata": {
    "collapsed": true
   },
   "outputs": [],
   "source": []
  }
 ],
 "metadata": {
  "kernelspec": {
   "display_name": "Python 3",
   "language": "python",
   "name": "python3"
  },
  "language_info": {
   "codemirror_mode": {
    "name": "ipython",
    "version": 3
   },
   "file_extension": ".py",
   "mimetype": "text/x-python",
   "name": "python",
   "nbconvert_exporter": "python",
   "pygments_lexer": "ipython3",
   "version": "3.5.2"
  }
 },
 "nbformat": 4,
 "nbformat_minor": 0
}
