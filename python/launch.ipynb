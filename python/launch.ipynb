{
 "cells": [
  {
   "cell_type": "code",
   "execution_count": 43,
   "metadata": {
    "collapsed": false
   },
   "outputs": [
    {
     "name": "stdout",
     "output_type": "stream",
     "text": [
      "2016-05-03_03:19:09\n",
      "['thermograph', 'oscilloscope', 'temperature', 'spectra']\n"
     ]
    }
   ],
   "source": [
    "import sh\n",
    "import os\n",
    "import datetime\n",
    "import numpy\n",
    "import time\n",
    "\n",
    "#### create the folders that will contain the data\n",
    "droot = '/home/brandon/repos/bcduino/' # absolute paths\n",
    "dbash = droot+'bash/'\n",
    "ddata = droot+'data/'\n",
    "dpython = droot+'python/'\n",
    "started = datetime.datetime.now()\n",
    "tstart = started.strftime(\"%Y-%m-%d_%H:%M:%S\")\n",
    "dexp = ddata+tstart\n",
    "dspectra = dexp+'/spectra/'\n",
    "dtemp = dexp+'/temperature/'\n",
    "dthermo = dexp+'/thermograph/'\n",
    "dosc = dexp+'/oscilloscope/'\n",
    "sh.mkdir(dexp)\n",
    "sh.mkdir(dspectra)\n",
    "sh.mkdir(dtemp)\n",
    "sh.mkdir(dthermo)\n",
    "sh.mkdir(dosc)\n",
    "print(tstart)\n",
    "print(os.listdir(dexp))\n",
    "\n",
    "### run thermometry - WORKS\n",
    "stty = sh.Command('/bin/stty')\n",
    "cat = sh.Command('/bin/cat')\n",
    "stty('-F','/dev/ttyACM0','57600','raw')\n",
    "ftemp = dtemp+'temperature_'+tstart\n",
    "p = cat('/dev/ttyACM0',_bg=True,_out=ftemp)\n",
    "\n",
    "#### run thermography - WORKS\n",
    "cp = sh.Command(\"/bin/cp\")\n",
    "cp(dbash+'thermograph', dthermo)\n",
    "capturethermograph = sh.Command(dthermo + 'thermograph')\n",
    "p = capturethermograph(_bg=True,_cwd=dthermo)\n",
    "\n",
    "#### run spectroscopy - WORKS\n",
    "# works great, but I don't know how to handle looping at the moment!\n",
    "#doceanoptics = droot+\"c/oceanoptics/seabreeze-3.0.11/SeaBreeze/\"\n",
    "#capturespectrum = sh.Command(doceanoptics+'sample-code/c/seabreeze-util')\n",
    "#p = capturespectrum(\"--get-spectrum\",\"--integration-time-us\",\"1000000\"\n",
    "#                    ,_env={\"LD_LIBRARY_PATH\": doceanoptics+\"lib\"}\n",
    "#                    ,_bg=True\n",
    "#                    ,_out=dspectra+\"spectrum_\"+datetime.datetime.now().strftime(\"%Y-%m-%d_%H:%M:%S\"))\n",
    "cp(dbash+'spectra.sh', dspectra)\n",
    "capturespectra = sh.Command(dspectra + 'spectra.sh')\n",
    "p = capturespectra(dspectra,_bg=True)\n",
    "\n",
    "#### run oscilloscope\n",
    "# this is not happening on the Pi3 yet, so don't worry about it\n",
    "# need to compile another kernel module to make this happen"
   ]
  },
  {
   "cell_type": "code",
   "execution_count": 48,
   "metadata": {
    "collapsed": false
   },
   "outputs": [
    {
     "name": "stdout",
     "output_type": "stream",
     "text": [
      "after running for 0:02:23:\n",
      "40 spectra\n",
      "138 thermographs\n",
      "21885 temperature datapoints\n",
      "\n",
      "after running for 0:02:30:\n",
      "40 spectra\n",
      "138 thermographs\n",
      "21885 temperature datapoints\n",
      "\n"
     ]
    }
   ],
   "source": [
    "## keep track of how things are going with the logging\n",
    "loops = 0\n",
    "maxloops = 2  # total time to loop the status checker\n",
    "delay = 5     # in seconds\n",
    "while (loops < maxloops):\n",
    "    \n",
    "    runtime = (datetime.datetime.now()-started) #.strftime(\"%Y-%m-%d_%H:%M:%S\")\n",
    "    print(\"after running for \" + str(runtime).split('.')[0] + \":\")\n",
    "    \n",
    "    ### check to make sure logging is occurring\n",
    "    if (len(os.listdir(dspectra)) < 3):\n",
    "        print(\"WARNING: spectroscopy down\")\n",
    "    else:\n",
    "        print(str(len(os.listdir(dspectra))) + \" spectra\")\n",
    "\n",
    "    if (len(os.listdir(dthermo)) < 3):\n",
    "        print(\"WARNING: thermography down\")\n",
    "    else:\n",
    "        print(str(len(os.listdir(dthermo))) + \" thermographs\")\n",
    "\n",
    "    # not happening on the Pi3 yet\n",
    "    #if (len(os.listdir(dosc)) < 3):             \n",
    "    #    print(\"WARNING: oscilloscope down\") \n",
    "    #else:\n",
    "    #    print(len(os.listdir(dosc)) + \" oscilloscope traces so far!\")\n",
    "\n",
    "    if (len(numpy.genfromtxt(dtemp+os.listdir(dtemp)[0])) < 10):\n",
    "        print(\"WARNING: thermometry down\")\n",
    "    else:\n",
    "        print(str(len(numpy.genfromtxt(dtemp+os.listdir(dtemp)[0]))) + \" temperature datapoints\")\n",
    "        \n",
    "    print('')\n",
    "    time.sleep(delay) # give it a few seconds to log some more stuff\n",
    "    loops = loops + 1\n"
   ]
  },
  {
   "cell_type": "code",
   "execution_count": 47,
   "metadata": {
    "collapsed": false
   },
   "outputs": [
    {
     "data": {
      "text/plain": []
     },
     "execution_count": 47,
     "metadata": {},
     "output_type": "execute_result"
    }
   ],
   "source": [
    "### stop everything\n",
    "stop = sh.Command(dbash+'stoprun.sh')\n",
    "stop()"
   ]
  },
  {
   "cell_type": "code",
   "execution_count": null,
   "metadata": {
    "collapsed": true
   },
   "outputs": [],
   "source": []
  }
 ],
 "metadata": {
  "kernelspec": {
   "display_name": "Python 2",
   "language": "python",
   "name": "python2"
  },
  "language_info": {
   "codemirror_mode": {
    "name": "ipython",
    "version": 2
   },
   "file_extension": ".py",
   "mimetype": "text/x-python",
   "name": "python",
   "nbconvert_exporter": "python",
   "pygments_lexer": "ipython2",
   "version": "2.7.10"
  }
 },
 "nbformat": 4,
 "nbformat_minor": 0
}
