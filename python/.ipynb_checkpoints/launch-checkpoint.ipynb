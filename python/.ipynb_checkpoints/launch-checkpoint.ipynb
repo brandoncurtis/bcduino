{
 "cells": [
  {
   "cell_type": "code",
   "execution_count": 9,
   "metadata": {
    "collapsed": false
   },
   "outputs": [
    {
     "data": {
      "text/plain": [
       "['thermo_2016-04-19_23:11:36-data-pid-metal-1000sccm',\n",
       " '2016-04-26',\n",
       " 'thermo_2016-04-19_19:38:23-data-step-metal-1000sccm.png',\n",
       " 'power-pid-metal-1000sccm.png',\n",
       " 'thermo_2016-04-19_19:38:23-data-step-metal-1000sccm',\n",
       " 'junk',\n",
       " 'power-pid_vs_step-metal-1000sccm.png',\n",
       " '2016-05-02_19:29:15',\n",
       " 'data-step-metal-1000sccm',\n",
       " 'data-pid-metal-1000sccm',\n",
       " 'power-step-metal-1000sccm.csv',\n",
       " 'power-pid-metal-1000sccm.csv',\n",
       " 'thermo_2016-04-19_23:11:36-data-pid-metal-1000sccm.png',\n",
       " 'power-step-metal-1000sccm.png']"
      ]
     },
     "execution_count": 9,
     "metadata": {},
     "output_type": "execute_result"
    }
   ],
   "source": [
    "import sh\n",
    "import os\n",
    "import datetime\n",
    "import numpy\n",
    "import time\n",
    "\n",
    "#### create the folder  that will contain the data\n",
    "dbash = '../bash/'\n",
    "ddata = '../data/'\n",
    "dpython = '../python/'\n",
    "tstart = datetime.datetime.now().strftime(\"%Y-%m-%d_%H:%M:%S\")\n",
    "dexp = dirdata+tstart\n",
    "dspectra = dexp+'/spectra/'\n",
    "dtemp = dexp+'/temperature/'\n",
    "dthermo = dexp+'/thermograph/'\n",
    "dosc = dexp+'/oscilloscope/'\n",
    "sh.mkdir(dexp)\n",
    "sh.mkdir(dspec)\n",
    "sh.mkdir(dtemp)\n",
    "sh.mkdir(dthermo)\n",
    "sh.mkdir(dosc)\n",
    "#os.listdir(dexp)"
   ]
  },
  {
   "cell_type": "code",
   "execution_count": 16,
   "metadata": {
    "collapsed": false
   },
   "outputs": [
    {
     "data": {
      "text/plain": []
     },
     "execution_count": 16,
     "metadata": {},
     "output_type": "execute_result"
    }
   ],
   "source": [
    "#### run spectroscopy\n",
    "doceanoptics = '../c/oceanoptics/seabreeze-3.0.11/SeaBreeze/'\n",
    "capturespectrum = sh.Command(doceanoptics+'sample-code/c/seabreeze-util')\n",
    "capturespectrum(_env={\"LD_LIBRARY_PATH\": doceanoptics},_bg=True,\n",
    "                '--get-spectrum','--integration-time-us','1000000',\n",
    "                _out=dspectra+'spectrum_'+tstart)\n",
    "\n",
    "#### run thermography\n",
    "cp = sh.Command(\"/bin/cp\")\n",
    "cp(dbash+'thermograph.sh', dthermo)\n",
    "sh.Command(dthermo + 'thermograph.sh',_bg=True)\n",
    "\n",
    "#### run oscilloscope\n",
    "# this is not happening on the Pi3 yet, so don't worry about it\n",
    "\n",
    "### run thermometry\n",
    "stty = sh.Command('/bin/stty')\n",
    "cat = sh.Command('/bin/cat')\n",
    "stty('-F','dev/ttyACM0','57600','raw')\n",
    "ftemp = dtemp+'temperature_'+tstart\n",
    "cat('dev/ttyACM0',_bg=True,\n",
    "   _out=ftemp)\n"
   ]
  },
  {
   "cell_type": "code",
   "execution_count": null,
   "metadata": {
    "collapsed": true
   },
   "outputs": [],
   "source": [
    "time.sleep(5) # give it five seconds to log some stuff\n",
    "\n",
    "### check to make sure logging is occurring\n",
    "if (len(os.listdir(dspectra)) < 3):\n",
    "    print(\"WARNING: spectroscopy down\")\n",
    "else:\n",
    "    print(len(os.listdir(dspectra) + \" spectra so far!\"))\n",
    "\n",
    "if (len(os.listdir(dthermo)) < 3):\n",
    "    print(\"WARNING: thermography down\")\n",
    "else:\n",
    "    print(len(os.listdir(dthermo)) + \" thermographs so far!\")\n",
    "\n",
    "# not happening on the Pi3 yet\n",
    "#if (len(os.listdir(dosc)) < 3):             \n",
    "#    print(\"WARNING: oscilloscope down\") \n",
    "#else:\n",
    "#    print(len(os.listdir(dosc)) + \" oscilloscope traces so far!\")\n",
    "\n",
    "if (len(numpy.genfromtxt(os.listdir(dtherm0)[0])) < 10):\n",
    "    print(\"WARNING: thermometry down\")\n",
    "else:\n",
    "    print(len(numpy.genfromtxt(os.listdir(dtherm0)[0])) + \"temperature datapoints so far!\")"
   ]
  }
 ],
 "metadata": {
  "kernelspec": {
   "display_name": "Python 2",
   "language": "python",
   "name": "python2"
  },
  "language_info": {
   "codemirror_mode": {
    "name": "ipython",
    "version": 2
   },
   "file_extension": ".py",
   "mimetype": "text/x-python",
   "name": "python",
   "nbconvert_exporter": "python",
   "pygments_lexer": "ipython2",
   "version": "2.7.6"
  }
 },
 "nbformat": 4,
 "nbformat_minor": 0
}
