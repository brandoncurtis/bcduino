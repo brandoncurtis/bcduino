{
 "cells": [
  {
   "cell_type": "code",
   "execution_count": 1,
   "metadata": {
    "collapsed": false
   },
   "outputs": [],
   "source": [
    "%matplotlib inline\n",
    "\n",
    "import os\n",
    "import numpy as np\n",
    "from matplotlib import pyplot as plt"
   ]
  },
  {
   "cell_type": "code",
   "execution_count": 2,
   "metadata": {
    "collapsed": true
   },
   "outputs": [],
   "source": []
  },
  {
   "cell_type": "code",
   "execution_count": 3,
   "metadata": {
    "collapsed": true
   },
   "outputs": [],
   "source": [
    "def getpower(vapp,vcap,title):\n",
    "    \n",
    "    windowSize = 1\n",
    "    Liss = create_lissajous(Vapp=vapp,Vcap=vcap,window=windowSize)\n",
    "    fig = plt.figure()\n",
    "    ax = fig.add_subplot(111)\n",
    "    plt.scatter([p[0] for p in Liss], [p[1] for p in Liss])\n",
    "    area = find_area(Liss[0:1000])\n",
    "    plt.title('The area of the Lissajous figure is: ' + str(area))\n",
    "    ax.set_xlabel('volts, applied')\n",
    "    ax.set_ylabel('volts, capacitor')\n",
    "    #plt.savefig(title + '_pwr' + str(area).split('.')[0] + '.png',\n",
    "    #  dpi=150) # save figure as .png\n",
    "    plt.close(fig)\n",
    "    \n",
    "    volts = int(title)\n",
    "    watts = int(str(area).split('.')[0])*0.47/1000.\n",
    "    powers.append((volts,watts))\n",
    "\n",
    "from numpy import convolve, ones\n",
    "\n",
    "def moving_average(interval, window_size):\n",
    "    \"\"\"Finds the moving average of a dataset over a window size.\"\"\"\n",
    "    # algorithm via http://stackoverflow.com/questions/11352047/finding-moving-average-from-data-points-in-python\n",
    "    window = ones(int(window_size))/float(window_size)\n",
    "    return convolve(interval, window, 'same')\n",
    "\n",
    "def data_import(fileName,fileSeparator,firstRow=1,xCol=1,yCol=2):\n",
    "    \"\"\"Imports data from .csv and puts it into an array.\"\"\"\n",
    "    dataFile = open(fileName, 'r')\n",
    "    for i in range(0,firstRow):\n",
    "        line = dataFile.readline()\n",
    "    line = dataFile.readline()\n",
    "    dataReturn = []\n",
    "    while(line != ''): \n",
    "\tlineSplit = line.split(fileSeparator)\n",
    "        dataLine = tuple(float(item.strip()) for item in [lineSplit[int(xCol)-1],lineSplit[int(yCol)-1]])\n",
    "        dataReturn.append(dataLine)\n",
    "        line = dataFile.readline()\n",
    "    return dataReturn\n",
    "    \n",
    "def data_pasted(dataString,fileSeparator,firstRow=1,xCol=1,yCol=2):\n",
    "    \"\"\"Prepares data that has been copied and pasted into the worksheet from a CSV file.\"\"\"\n",
    "    dataList = dataString.splitlines()\n",
    "    dataReturn = []\n",
    "    for line in dataList:\n",
    "\tlineSplit = line.split(fileSeparator)\n",
    "        dataLine = tuple(float(item.strip()) for item in [lineSplit[int(xCol)-1],lineSplit[int(yCol)-1]])\n",
    "        if len(dataLine)!=0: dataReturn.append(dataLine)\n",
    "    return dataReturn\n",
    "\n",
    "def find_area(array):\n",
    "    \"\"\"Find the array of a polygon defined as a set of Cartesian points in an array.\"\"\"\n",
    "    # algorithm via http://www.arachnoid.com/area_irregular_polygon/index.html\n",
    "    a = 0\n",
    "    ox,oy = array[0]\n",
    "    for x,y in array[1:]:\n",
    "        a += (x*oy-y*ox)\n",
    "        ox,oy = x,y\n",
    "    return abs(a/2)\n",
    "\n",
    "def create_lissajous(Vapp,Vcap,window=1):\n",
    "    \"\"\"Generates a Lissajous figure from the applied and capacitor voltage oscilloscope traces.\"\"\"\n",
    "    #x=[Vapp[i][1] for i in range(0,len(Vapp))] # if your data also includes time\n",
    "    #y=[Vcap[i][1] for i in range(0,len(Vcap))]\n",
    "    x = Vapp\n",
    "    y = Vcap\n",
    "    if window!= 1:\n",
    "        x = moving_average(x,window)\n",
    "        y = moving_average(y,window)\n",
    "    Liss = []\n",
    "    for i in range(0,len(Vapp)):\n",
    "        Liss.append((x[i],y[i]))\n",
    "    return Liss\n"
   ]
  },
  {
   "cell_type": "code",
   "execution_count": 4,
   "metadata": {
    "collapsed": false
   },
   "outputs": [],
   "source": [
    "files = [item for item in sorted(os.listdir('data')) if '.png' not in item]\n",
    "powers = []\n",
    "\n",
    "for file in files:\n",
    "    try:\n",
    "        filename = 'data/' + file\n",
    "        dataset = np.genfromtxt(filename,delimiter=',')\n",
    "        #fig = plt.figure()\n",
    "        #ax1 = fig.add_subplot(111)\n",
    "\n",
    "        # http://matplotlib.org/examples/color/named_colors.html\n",
    "        colors = ['yellow','cyan','pink','darkblue']\n",
    "        labels = ['V','Vcap','I']\n",
    "\n",
    "        xax = [line[0] for line in dataset]\n",
    "        data_v = [line[1] for line in dataset]\n",
    "        data_vcap = [line[2] for line in dataset]\n",
    "        data_i = [line[3] for line in dataset]\n",
    "        voltage = max(data_v)-min(data_v)\n",
    "\n",
    "        #ax1.plot(xax,data_v,linestyle='None',marker='o',markeredgecolor='cyan',markersize=1,\n",
    "        #  label='voltage')\n",
    "        #ax2 = ax1.twinx()\n",
    "        #ax2.plot(xax,data_i,linestyle='None',marker='o',markeredgecolor='yellow',markersize=1,\n",
    "        #  label='current')\n",
    "\n",
    "        #ax1.legend(loc=1)\n",
    "        #ax2.legend(loc=2)\n",
    "        #ax1.grid()\n",
    "        ##ax1.ylim(0,256)\n",
    "        ##ax2.ylim(0,256)\n",
    "        #ax1.set_xlabel(\"time, s\")\n",
    "        #ax1.set_ylabel(\"potential, V\")\n",
    "        #ax2.set_ylabel(\"current, A\")\n",
    "        #plt.title(\"oscilloscope traces, Vpp=\" + str(voltage) + \", \" + str(file))\n",
    "        #filename = 'data/vpp' + str(voltage).split('.')[0]\n",
    "        #fig.savefig(filename+'.png',dpi=150) # save the figure as a .png\n",
    "        #plt.close(fig)\n",
    "\n",
    "        #getpower(vapp=data_v,vcap=data_vcap,title=filename)\n",
    "        getpower(vapp=data_v,vcap=data_vcap,title=str(voltage).split('.')[0])\n",
    "    except:\n",
    "        print(\"ERROR: \" + filename)\n",
    "\n",
    "np.savetxt('power.csv',powers,delimiter=',')"
   ]
  },
  {
   "cell_type": "code",
   "execution_count": 5,
   "metadata": {
    "collapsed": false
   },
   "outputs": [],
   "source": [
    "### TESTING PLOTTING OF PARTICULAR DATASETS\n",
    "#%matplotlib inline\n",
    "#\n",
    "#for file in files[50:52]:\n",
    "#    filename = 'data/' + file\n",
    "#    dataset = np.genfromtxt(filename,delimiter=',')\n",
    "#    fig = plt.figure()\n",
    "#    ax1 = fig.add_subplot(111)\n",
    "#    \n",
    "#    # http://matplotlib.org/examples/color/named_colors.html\n",
    "#    colors = ['yellow','cyan','pink','darkblue']\n",
    "#    labels = ['V','Vcap','I']\n",
    "#    \n",
    "#    xax = [line[0] for line in dataset]\n",
    "#    data_v = [line[1] for line in dataset]\n",
    "#    data_vcap = [line[2] for line in dataset]\n",
    "#    data_i = [line[3] for line in dataset]\n",
    "#    voltage = max(data_v)-min(data_v)\n",
    "#    \n",
    "#    ax1.plot(data_v[:],data_vcap[:],linestyle='-',marker='o',markeredgecolor='cyan',markersize=1,\n",
    "#      label='voltage')\n",
    "#    #ax2 = ax1.twinx()\n",
    "#    #ax2.plot(xax,data_vcap,linestyle='None',marker='o',markeredgecolor='yellow',markersize=1,\n",
    "#    #  label='current')\n",
    "#    fig.show()"
   ]
  },
  {
   "cell_type": "code",
   "execution_count": 6,
   "metadata": {
    "collapsed": false
   },
   "outputs": [],
   "source": [
    "### TESTING PYTHONIC LIST ELEMENT FILTERING\n",
    "#a = [1,2,3,4,5,12,5,67,21]\n",
    "#b = [2]\n",
    "#[item for item in a if item not in b]"
   ]
  },
  {
   "cell_type": "code",
   "execution_count": 7,
   "metadata": {
    "collapsed": false
   },
   "outputs": [],
   "source": [
    "### TESTING PYTHONIC LIST ELEMENT FILTERING\n",
    "#a = ['1','2','3','4','5','12','5','67','21']\n",
    "#[item for item in a if '2' in item]"
   ]
  },
  {
   "cell_type": "code",
   "execution_count": 8,
   "metadata": {
    "collapsed": false
   },
   "outputs": [],
   "source": [
    "### TESTING PYTHONIC LIST ELEMENT FILTERING\n",
    "#files = [item for item in sorted(os.listdir('data')) if '.png' not in item]\n",
    "#print(files)"
   ]
  },
  {
   "cell_type": "code",
   "execution_count": 11,
   "metadata": {
    "collapsed": false
   },
   "outputs": [
    {
     "data": {
      "image/png": "[encoded data removed]",
      "text/plain": [
       "<matplotlib.figure.Figure at 0x7f0b1cabbd90>"
      ]
     },
     "metadata": {},
     "output_type": "display_data"
    }
   ],
   "source": [
    "### PLOTTING THE POWER DATA\n",
    "\n",
    "data1 = np.genfromtxt('power-step-metal-1000sccm.csv',delimiter=',')\n",
    "data2 = np.genfromtxt('power-pid-metal-1000sccm.csv',delimiter=',')\n",
    "\n",
    "fig = plt.figure()\n",
    "ax = fig.add_subplot(111)\n",
    "ax.plot([item[0] for item in data1],[item[1] for item in data1],\n",
    "       linestyle='None',marker='o',markerfacecolor='blue',label='PID')\n",
    "ax.plot([item[0] for item in data2],[item[1] for item in data2],\n",
    "       linestyle='None',marker='o',markerfacecolor='red',label='Step')\n",
    "ax.set_xlabel('applied potential, V')\n",
    "ax.set_ylabel('plasma power, W')\n",
    "ax.set_title('substrate: metal; gas: He 1000sccm; control: PID/tube temperature/voltage')\n",
    "fig.show()"
   ]
  },
  {
   "cell_type": "code",
   "execution_count": 12,
   "metadata": {
    "collapsed": true
   },
   "outputs": [],
   "source": [
    "fig.savefig('power.png',dpi=150)"
   ]
  },
  {
   "cell_type": "code",
   "execution_count": null,
   "metadata": {
    "collapsed": true
   },
   "outputs": [],
   "source": []
  }
 ],
 "metadata": {
  "kernelspec": {
   "display_name": "Python 2",
   "language": "python",
   "name": "python2"
  },
  "language_info": {
   "codemirror_mode": {
    "name": "ipython",
    "version": 2
   },
   "file_extension": ".py",
   "mimetype": "text/x-python",
   "name": "python",
   "nbconvert_exporter": "python",
   "pygments_lexer": "ipython2",
   "version": "2.7.10"
  }
 },
 "nbformat": 4,
 "nbformat_minor": 0
}
