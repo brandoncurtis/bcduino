{
 "cells": [
  {
   "cell_type": "code",
   "execution_count": 42,
   "metadata": {
    "collapsed": false
   },
   "outputs": [],
   "source": [
    "%matplotlib inline\n",
    "\n",
    "import os\n",
    "import numpy as np\n",
    "from matplotlib import pyplot as plt"
   ]
  },
  {
   "cell_type": "code",
   "execution_count": 71,
   "metadata": {
    "collapsed": false
   },
   "outputs": [
    {
     "data": {
      "text/plain": [
       "['2016-04-19_13:36:07']"
      ]
     },
     "execution_count": 71,
     "metadata": {},
     "output_type": "execute_result"
    }
   ],
   "source": [
    "files = sorted(os.listdir('data'))\n",
    "files"
   ]
  },
  {
   "cell_type": "code",
   "execution_count": 81,
   "metadata": {
    "collapsed": false
   },
   "outputs": [
    {
     "name": "stdout",
     "output_type": "stream",
     "text": [
      "[-0.00012, -0.0001198, -0.00011959999999999999, -0.00011939999999999999, -0.00011919999999999998]\n",
      "4\n"
     ]
    }
   ],
   "source": [
    "for file in files:\n",
    "    filename = 'data/' + file\n",
    "    dataset = np.genfromtxt(filename,delimiter=',')\n",
    "    fig = plt.figure()\n",
    "    ax = plt.subplot(111)\n",
    "    \n",
    "    # http://matplotlib.org/examples/color/named_colors.html\n",
    "    colors = ['yellow','cyan','pink','darkblue']\n",
    "    labels = ['V','Vcap','I']\n",
    "    \n",
    "    xax = [line[0] for line in dataset]\n",
    "    print(xax[:5])\n",
    "    print(len(dataset[0]))\n",
    "    \n",
    "    for i in [1,2]:\n",
    "    #for i in range(1,len(dataset[0])-1):\n",
    "        data = [line[i] for line in dataset]\n",
    "        if i == 0:\n",
    "            voltage = max(data)-min(data)\n",
    "        ax = plt.plot(xax,data,\n",
    "          linestyle='None',marker='o',markeredgecolor=colors[i-1],markersize=1,\n",
    "          label=labels[i-1])\n",
    "    plt.legend()\n",
    "    #plt.ylim(0,256)\n",
    "    plt.title(\"oscilloscope traces, Vpp=\" + str(voltage) + \", \" + str(file))\n",
    "    fig.savefig(filename+'.png',dpi=150)\n",
    "    plt.close(fig)"
   ]
  },
  {
   "cell_type": "code",
   "execution_count": 70,
   "metadata": {
    "collapsed": false
   },
   "outputs": [
    {
     "data": {
      "text/plain": [
       "['0',\n",
       " '0',\n",
       " '1200',\n",
       " '1',\n",
       " '2.000000e-07',\n",
       " '-1.200000e-04',\n",
       " '0',\n",
       " '8.000000e+01',\n",
       " '0',\n",
       " '127\\n']"
      ]
     },
     "execution_count": 70,
     "metadata": {},
     "output_type": "execute_result"
    }
   ],
   "source": [
    "device = os.open(\"/dev/usbtmc0\",os.O_RDWR)\n",
    "\n",
    "os.write(device,\"WAV:PREAMBLE?\")\n",
    "preamble = os.read(device,4000).split(',')\n",
    "\n",
    "xincr = float(preamble[4])\n",
    "xorig = float(preamble[5])\n",
    "xref = float(preamble[6])\n",
    "yincr = float(preamble[7])\n",
    "yorig = float(preamble[8])\n",
    "yref = float(preamble[9])\n",
    "\n",
    "preamble"
   ]
  },
  {
   "cell_type": "code",
   "execution_count": null,
   "metadata": {
    "collapsed": true
   },
   "outputs": [],
   "source": []
  }
 ],
 "metadata": {
  "kernelspec": {
   "display_name": "Python 2",
   "language": "python",
   "name": "python2"
  },
  "language_info": {
   "codemirror_mode": {
    "name": "ipython",
    "version": 2
   },
   "file_extension": ".py",
   "mimetype": "text/x-python",
   "name": "python",
   "nbconvert_exporter": "python",
   "pygments_lexer": "ipython2",
   "version": "2.7.6"
  }
 },
 "nbformat": 4,
 "nbformat_minor": 0
}
