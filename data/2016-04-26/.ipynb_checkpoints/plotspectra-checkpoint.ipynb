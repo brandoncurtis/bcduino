{
 "cells": [
  {
   "cell_type": "code",
   "execution_count": 16,
   "metadata": {
    "collapsed": false
   },
   "outputs": [
    {
     "name": "stdout",
     "output_type": "stream",
     "text": [
      "spectrum_2016-04-26_8:46:56.png\n",
      "spectrum_2016-04-26_8:47:06.png\n",
      "spectrum_2016-04-26_8:48:21.png\n",
      "spectrum_2016-04-26_8:46:48.png\n",
      "spectrum_2016-04-26_8:48:38.png\n",
      "spectrum_2016-04-26_8:48:36.png\n",
      "spectrum_2016-04-26_8:47:11.png\n",
      "spectrum_2016-04-26_8:47:37.png\n",
      "spectrum_2016-04-27_7:24:13.png\n",
      "spectrum_2016-04-26_8:46:51.png\n",
      "spectrum_2016-04-26_8:47:14.png\n",
      "spectrum_2016-04-26_8:47:57.png\n",
      "spectrum_2016-04-26_8:47:16.png\n",
      "spectrum_2016-04-26_8:48:13.png\n",
      "spectrum_2016-04-26_8:48:00.png\n",
      "spectrum_2016-04-26_8:48:18.png\n",
      "spectrum_2016-04-26_8:46:46.png\n",
      "spectrum_2016-04-27_7:24:05.png\n",
      "spectrum_2016-04-26_8:46:43.png\n",
      "spectrum_2016-04-26_8:47:09.png\n",
      "spectrum_2016-04-26_8:48:28.png\n",
      "spectrum_2016-04-26_8:47:29.png\n",
      "spectrum_2016-04-27_7:24:23.png\n",
      "spectrum_2016-04-26_8:46:41.png\n",
      "spectrum_2016-04-26_8:47:19.png\n",
      "spectrum_2016-04-26_8:47:52.png\n",
      "spectrum_2016-04-26_8:48:33.png\n",
      "spectrum_2016-04-26_8:48:03.png\n",
      "spectrum_2016-04-26_8:48:23.png\n",
      "spectrum_2016-04-26_8:47:27.png\n",
      "spectrum_2016-04-27_7:24:18.png\n",
      "spectrum_2016-04-26_8:48:10.png\n",
      "spectrum_2016-04-26_8:48:08.png\n",
      "spectrum_2016-04-26_8:47:40.png\n",
      "spectrum_2016-04-26_8:47:22.png\n",
      "spectrum_2016-04-26_8:48:46.png\n",
      "spectrum_2016-04-26_8:47:47.png\n",
      "spectrum_2016-04-26_8:48:15.png\n",
      "spectrum_2016-04-26_8:47:04.png\n",
      "spectrum_2016-04-26_8:47:01.png\n",
      "spectrum_2016-04-26_8:47:34.png\n",
      "spectrum_2016-04-26_8:46:59.png\n",
      "spectrum_2016-04-27_7:24:16.png\n",
      "spectrum_2016-04-26_8:48:05.png\n",
      "spectrum_2016-04-26_8:47:32.png\n",
      "spectrum_2016-04-26_8:47:24.png\n",
      "spectrum_2016-04-26_8:46:38.png\n",
      "spectrum_2016-04-26_8:47:55.png\n",
      "spectrum_2016-04-26_8:48:26.png\n",
      "spectrum_2016-04-27_7:24:10.png\n",
      "spectrum_2016-04-26_8:48:41.png\n",
      "spectrum_2016-04-26_8:46:53.png\n",
      "spectrum_2016-04-26_8:48:31.png\n",
      "spectrum_2016-04-27_7:24:21.png\n",
      "spectrum_2016-04-26_8:47:50.png\n",
      "spectrum_2016-04-26_8:47:42.png\n",
      "spectrum_2016-04-26_8:48:44.png\n",
      "spectrum_2016-04-26_8:47:45.png\n",
      "spectrum_2016-04-27_7:24:08.png\n",
      "done!\n"
     ]
    },
    {
     "name": "stderr",
     "output_type": "stream",
     "text": [
      "/usr/local/lib/python2.7/dist-packages/numpy/lib/npyio.py:1484: UserWarning: genfromtxt: Empty input file: \"spectra/spectrum_2016-04-27_7:47:04\"\n",
      "  warnings.warn('genfromtxt: Empty input file: \"%s\"' % fname)\n"
     ]
    }
   ],
   "source": [
    "import numpy as np\n",
    "from matplotlib import pyplot as plt\n",
    "import os\n",
    "\n",
    "files = os.listdir('spectra')\n",
    "\n",
    "for file in files:\n",
    "  try:\n",
    "    data = np.genfromtxt('spectra/'+file,delimiter=',')\n",
    "    fig = plt.figure()\n",
    "    ax = fig.add_subplot(111)\n",
    "    ax.plot([line[0] for line in data],[line[1] for line in data])\n",
    "    ax.set_ylim(0,180)\n",
    "    fig.savefig('plots/spectra/' + file + '.png')\n",
    "    plt.close(fig)\n",
    "  except:\n",
    "    print file\n",
    "print('done!')"
   ]
  },
  {
   "cell_type": "code",
   "execution_count": null,
   "metadata": {
    "collapsed": true
   },
   "outputs": [],
   "source": []
  }
 ],
 "metadata": {
  "kernelspec": {
   "display_name": "Python 2",
   "language": "python",
   "name": "python2"
  },
  "language_info": {
   "codemirror_mode": {
    "name": "ipython",
    "version": 2
   },
   "file_extension": ".py",
   "mimetype": "text/x-python",
   "name": "python",
   "nbconvert_exporter": "python",
   "pygments_lexer": "ipython2",
   "version": "2.7.6"
  }
 },
 "nbformat": 4,
 "nbformat_minor": 0
}
