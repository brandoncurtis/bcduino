{
 "cells": [
  {
   "cell_type": "code",
   "execution_count": 11,
   "metadata": {
    "collapsed": false
   },
   "outputs": [
    {
     "name": "stdout",
     "output_type": "stream",
     "text": [
      "spectrum_2016-04-26_8:48:03\n",
      "spectrum_2016-04-26_8:47:37\n",
      "spectrum_2016-04-26_8:47:29\n",
      "spectrum_2016-04-26_8:47:19\n",
      "spectrum_2016-04-27_7:24:23\n",
      "spectrum_2016-04-26_8:46:53\n",
      "spectrum_2016-04-26_8:47:01\n",
      "spectrum_2016-04-26_8:46:51\n",
      "spectrum_2016-04-26_8:48:33\n",
      "spectrum_2016-04-26_8:47:16\n",
      "spectrum_2016-04-26_8:47:24\n",
      "spectrum_2016-04-27_7:24:18\n",
      "spectrum_2016-04-27_7:24:05\n",
      "spectrum_2016-04-26_8:47:27\n",
      "spectrum_2016-04-26_8:48:00\n",
      "spectrum_2016-04-26_8:48:15\n",
      "spectrum_2016-04-26_8:48:46\n",
      "spectrum_2016-04-26_8:47:04\n",
      "spectrum_2016-04-26_8:48:10\n",
      "spectrum_2016-04-26_8:48:28\n",
      "spectrum_2016-04-26_8:48:26\n",
      "spectrum_2016-04-26_8:48:41\n",
      "spectrum_2016-04-26_8:47:09\n",
      "spectrum_2016-04-26_8:47:47\n",
      "spectrum_2016-04-26_8:46:41\n",
      "spectrum_2016-04-26_8:47:34\n",
      "spectrum_2016-04-26_8:47:14\n",
      "spectrum_2016-04-26_8:47:22\n",
      "spectrum_2016-04-26_8:47:45\n",
      "spectrum_2016-04-26_8:46:56\n",
      "spectrum_2016-04-26_8:48:36\n",
      "spectrum_2016-04-26_8:46:59\n",
      "spectrum_2016-04-26_8:48:31\n",
      "spectrum_2016-04-26_8:48:18\n",
      "spectrum_2016-04-27_7:24:21\n",
      "spectrum_2016-04-26_8:48:08\n",
      "spectrum_2016-04-26_8:47:11\n",
      "spectrum_2016-04-27_7:24:16\n",
      "spectrum_2016-04-26_8:47:50\n",
      "spectrum_2016-04-26_8:47:42\n",
      "spectrum_2016-04-26_8:48:13\n",
      "spectrum_2016-04-26_8:47:52\n",
      "spectrum_2016-04-26_8:47:55\n",
      "spectrum_2016-04-26_8:48:23\n",
      "spectrum_2016-04-26_8:48:38\n",
      "spectrum_2016-04-27_7:24:10\n",
      "spectrum_2016-04-26_8:48:44\n",
      "spectrum_2016-04-27_7:24:13\n",
      "spectrum_2016-04-26_8:46:38\n",
      "spectrum_2016-04-26_8:47:40\n",
      "spectrum_2016-04-27_7:24:08\n",
      "spectrum_2016-04-26_8:48:05\n",
      "spectrum_2016-04-26_8:47:57\n",
      "spectrum_2016-04-26_8:46:43\n",
      "spectrum_2016-04-26_8:46:46\n",
      "spectrum_2016-04-26_8:48:21\n",
      "spectrum_2016-04-26_8:46:48\n",
      "spectrum_2016-04-26_8:47:32\n",
      "spectrum_2016-04-26_8:47:06\n",
      "done!\n"
     ]
    }
   ],
   "source": [
    "import numpy as np\n",
    "from matplotlib import pyplot as plt\n",
    "import os\n",
    "\n",
    "files = os.listdir('spectra')\n",
    "\n",
    "for file in files:\n",
    "  try:\n",
    "    data = np.genfromtxt('spectra/'+file,delimiter=',')\n",
    "    fig = plt.figure()\n",
    "    ax = fig.add_subplot(111)\n",
    "    ax.plot([line[0] for line in data],[line[1] for line in data])\n",
    "    ax.setylim(0,180)\n",
    "    fig.savefig('spectra/' + file + '.png')\n",
    "    plt.close(fig)\n",
    "  except:\n",
    "    print file\n",
    "print('done!')"
   ]
  },
  {
   "cell_type": "code",
   "execution_count": null,
   "metadata": {
    "collapsed": true
   },
   "outputs": [],
   "source": []
  }
 ],
 "metadata": {
  "kernelspec": {
   "display_name": "Python 2",
   "language": "python",
   "name": "python2"
  },
  "language_info": {
   "codemirror_mode": {
    "name": "ipython",
    "version": 2
   },
   "file_extension": ".py",
   "mimetype": "text/x-python",
   "name": "python",
   "nbconvert_exporter": "python",
   "pygments_lexer": "ipython2",
   "version": "2.7.6"
  }
 },
 "nbformat": 4,
 "nbformat_minor": 0
}
